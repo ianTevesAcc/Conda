{
 "cells": [
  {
   "cell_type": "code",
   "execution_count": 1,
   "id": "faf391e7-7b92-4e81-8122-de9e177446da",
   "metadata": {
    "editable": true,
    "scrolled": true,
    "slideshow": {
     "slide_type": ""
    },
    "tags": []
   },
   "outputs": [
    {
     "name": "stdout",
     "output_type": "stream",
     "text": [
      "Requirement already satisfied: tensorflow in /home/marci/miniconda3/lib/python3.12/site-packages (2.16.1)\n",
      "Requirement already satisfied: absl-py>=1.0.0 in /home/marci/miniconda3/lib/python3.12/site-packages (from tensorflow) (2.1.0)\n",
      "Requirement already satisfied: astunparse>=1.6.0 in /home/marci/miniconda3/lib/python3.12/site-packages (from tensorflow) (1.6.3)\n",
      "Requirement already satisfied: flatbuffers>=23.5.26 in /home/marci/miniconda3/lib/python3.12/site-packages (from tensorflow) (24.3.25)\n",
      "Requirement already satisfied: gast!=0.5.0,!=0.5.1,!=0.5.2,>=0.2.1 in /home/marci/miniconda3/lib/python3.12/site-packages (from tensorflow) (0.5.4)\n",
      "Requirement already satisfied: google-pasta>=0.1.1 in /home/marci/miniconda3/lib/python3.12/site-packages (from tensorflow) (0.2.0)\n",
      "Requirement already satisfied: h5py>=3.10.0 in /home/marci/miniconda3/lib/python3.12/site-packages (from tensorflow) (3.11.0)\n",
      "Requirement already satisfied: libclang>=13.0.0 in /home/marci/miniconda3/lib/python3.12/site-packages (from tensorflow) (18.1.1)\n",
      "Requirement already satisfied: ml-dtypes~=0.3.1 in /home/marci/miniconda3/lib/python3.12/site-packages (from tensorflow) (0.3.2)\n",
      "Requirement already satisfied: opt-einsum>=2.3.2 in /home/marci/miniconda3/lib/python3.12/site-packages (from tensorflow) (3.3.0)\n",
      "Requirement already satisfied: packaging in /home/marci/miniconda3/lib/python3.12/site-packages (from tensorflow) (23.2)\n",
      "Requirement already satisfied: protobuf!=4.21.0,!=4.21.1,!=4.21.2,!=4.21.3,!=4.21.4,!=4.21.5,<5.0.0dev,>=3.20.3 in /home/marci/miniconda3/lib/python3.12/site-packages (from tensorflow) (4.25.3)\n",
      "Requirement already satisfied: requests<3,>=2.21.0 in /home/marci/miniconda3/lib/python3.12/site-packages (from tensorflow) (2.31.0)\n",
      "Requirement already satisfied: setuptools in /home/marci/miniconda3/lib/python3.12/site-packages (from tensorflow) (69.5.1)\n",
      "Requirement already satisfied: six>=1.12.0 in /home/marci/miniconda3/lib/python3.12/site-packages (from tensorflow) (1.16.0)\n",
      "Requirement already satisfied: termcolor>=1.1.0 in /home/marci/miniconda3/lib/python3.12/site-packages (from tensorflow) (2.4.0)\n",
      "Requirement already satisfied: typing-extensions>=3.6.6 in /home/marci/miniconda3/lib/python3.12/site-packages (from tensorflow) (4.11.0)\n",
      "Requirement already satisfied: wrapt>=1.11.0 in /home/marci/miniconda3/lib/python3.12/site-packages (from tensorflow) (1.16.0)\n",
      "Requirement already satisfied: grpcio<2.0,>=1.24.3 in /home/marci/miniconda3/lib/python3.12/site-packages (from tensorflow) (1.64.1)\n",
      "Requirement already satisfied: tensorboard<2.17,>=2.16 in /home/marci/miniconda3/lib/python3.12/site-packages (from tensorflow) (2.16.2)\n",
      "Requirement already satisfied: keras>=3.0.0 in /home/marci/miniconda3/lib/python3.12/site-packages (from tensorflow) (3.3.3)\n",
      "Requirement already satisfied: numpy<2.0.0,>=1.26.0 in /home/marci/miniconda3/lib/python3.12/site-packages (from tensorflow) (1.26.4)\n",
      "Requirement already satisfied: wheel<1.0,>=0.23.0 in /home/marci/miniconda3/lib/python3.12/site-packages (from astunparse>=1.6.0->tensorflow) (0.43.0)\n",
      "Requirement already satisfied: rich in /home/marci/miniconda3/lib/python3.12/site-packages (from keras>=3.0.0->tensorflow) (13.7.1)\n",
      "Requirement already satisfied: namex in /home/marci/miniconda3/lib/python3.12/site-packages (from keras>=3.0.0->tensorflow) (0.0.8)\n",
      "Requirement already satisfied: optree in /home/marci/miniconda3/lib/python3.12/site-packages (from keras>=3.0.0->tensorflow) (0.11.0)\n",
      "Requirement already satisfied: charset-normalizer<4,>=2 in /home/marci/miniconda3/lib/python3.12/site-packages (from requests<3,>=2.21.0->tensorflow) (2.0.4)\n",
      "Requirement already satisfied: idna<4,>=2.5 in /home/marci/miniconda3/lib/python3.12/site-packages (from requests<3,>=2.21.0->tensorflow) (3.7)\n",
      "Requirement already satisfied: urllib3<3,>=1.21.1 in /home/marci/miniconda3/lib/python3.12/site-packages (from requests<3,>=2.21.0->tensorflow) (2.1.0)\n",
      "Requirement already satisfied: certifi>=2017.4.17 in /home/marci/miniconda3/lib/python3.12/site-packages (from requests<3,>=2.21.0->tensorflow) (2024.6.2)\n",
      "Requirement already satisfied: markdown>=2.6.8 in /home/marci/miniconda3/lib/python3.12/site-packages (from tensorboard<2.17,>=2.16->tensorflow) (3.6)\n",
      "Requirement already satisfied: tensorboard-data-server<0.8.0,>=0.7.0 in /home/marci/miniconda3/lib/python3.12/site-packages (from tensorboard<2.17,>=2.16->tensorflow) (0.7.2)\n",
      "Requirement already satisfied: werkzeug>=1.0.1 in /home/marci/miniconda3/lib/python3.12/site-packages (from tensorboard<2.17,>=2.16->tensorflow) (3.0.3)\n",
      "Requirement already satisfied: MarkupSafe>=2.1.1 in /home/marci/miniconda3/lib/python3.12/site-packages (from werkzeug>=1.0.1->tensorboard<2.17,>=2.16->tensorflow) (2.1.3)\n",
      "Requirement already satisfied: markdown-it-py>=2.2.0 in /home/marci/miniconda3/lib/python3.12/site-packages (from rich->keras>=3.0.0->tensorflow) (3.0.0)\n",
      "Requirement already satisfied: pygments<3.0.0,>=2.13.0 in /home/marci/miniconda3/lib/python3.12/site-packages (from rich->keras>=3.0.0->tensorflow) (2.15.1)\n",
      "Requirement already satisfied: mdurl~=0.1 in /home/marci/miniconda3/lib/python3.12/site-packages (from markdown-it-py>=2.2.0->rich->keras>=3.0.0->tensorflow) (0.1.2)\n"
     ]
    }
   ],
   "source": [
    "!pip install tensorflow"
   ]
  },
  {
   "cell_type": "code",
   "execution_count": 12,
   "id": "1e6fa112-80d4-47fe-9c9e-004d155e0275",
   "metadata": {
    "scrolled": true
   },
   "outputs": [],
   "source": [
    "import tensorflow as tf"
   ]
  },
  {
   "cell_type": "code",
   "execution_count": 20,
   "id": "3948685b-4a14-4753-a33a-eff9d3bf4cfc",
   "metadata": {
    "scrolled": true
   },
   "outputs": [
    {
     "name": "stdout",
     "output_type": "stream",
     "text": [
      "0D : tf.Tensor(1, shape=(), dtype=int32) \n",
      "\n",
      "1D : tf.Tensor([1. 1. 1.], shape=(3,), dtype=float64) \n",
      "\n",
      "2D : tf.Tensor(\n",
      "[[1 2 3]\n",
      " [4 5 6]\n",
      " [7 8 9]], shape=(3, 3), dtype=int32) \n",
      "\n",
      "3D : tf.Tensor(\n",
      "[[[ 1  2  3]\n",
      "  [ 4  5  6]\n",
      "  [ 7  8  9]]\n",
      "\n",
      " [[10 11 12]\n",
      "  [13 14 15]\n",
      "  [16 17 18]]\n",
      "\n",
      " [[19 20 21]\n",
      "  [22 23 24]\n",
      "  [25 26 27]]], shape=(3, 3, 3), dtype=int32) \n",
      "\n",
      "4D : tf.Tensor(\n",
      "[[[[ 1.  2.  3.]\n",
      "   [ 4.  5.  6.]\n",
      "   [ 7.  8.  9.]]\n",
      "\n",
      "  [[10. 11. 12.]\n",
      "   [13. 14. 15.]\n",
      "   [16. 17. 18.]]\n",
      "\n",
      "  [[19. 20. 21.]\n",
      "   [22. 23. 24.]\n",
      "   [25. 26. 27.]]]\n",
      "\n",
      "\n",
      " [[[28. 29. 30.]\n",
      "   [31. 32. 33.]\n",
      "   [34. 35. 36.]]\n",
      "\n",
      "  [[37. 38. 39.]\n",
      "   [40. 41. 42.]\n",
      "   [43. 44. 45.]]\n",
      "\n",
      "  [[46. 47. 48.]\n",
      "   [49. 50. 51.]\n",
      "   [52. 53. 54.]]]\n",
      "\n",
      "\n",
      " [[[55. 56. 57.]\n",
      "   [58. 59. 60.]\n",
      "   [61. 62. 63.]]\n",
      "\n",
      "  [[64. 65. 66.]\n",
      "   [67. 68. 69.]\n",
      "   [70. 71. 72.]]\n",
      "\n",
      "  [[73. 74. 75.]\n",
      "   [76. 77. 78.]\n",
      "   [79. 80. 81.]]]], shape=(3, 3, 3, 3), dtype=float32) \n",
      "\n"
     ]
    }
   ],
   "source": [
    "# 0D tensor\n",
    "tensor_zero_d = tf.constant(1)\n",
    "print(\"0D :\", tensor_zero_d, \"\\n\")\n",
    "# 1D tensor\n",
    "tensor_one_d = tf.constant(1,2,3)\n",
    "print(\"1D :\", tensor_one_d, \"\\n\")\n",
    "# 2D tensor\n",
    "tensor_two_d = tf.constant([\n",
    "    [1,2,3],\n",
    "    [4,5,6],\n",
    "    [7,8,9]\n",
    "])\n",
    "print(\"2D :\", tensor_two_d, \"\\n\")\n",
    "# 3D tensor\n",
    "tensor_three_d = tf.constant([\n",
    "    [[1,2,3],\n",
    "    [4,5,6],\n",
    "    [7,8,9]],\n",
    "    \n",
    "    [[10,11,12],\n",
    "     [13,14,15],\n",
    "     [16,17,18]],\n",
    "    \n",
    "    [[19,20,21],\n",
    "     [22,23,24],\n",
    "     [25,26,27]]\n",
    "])\n",
    "print(\"3D :\", tensor_three_d, \"\\n\")\n",
    "# 4D tensor\n",
    "tensor_four_d = tf.constant([\n",
    "    [[[1,2,3],\n",
    "    [4,5,6],\n",
    "    [7,8,9]],\n",
    "    \n",
    "    [[10,11,12],\n",
    "     [13,14,15],\n",
    "     [16,17,18]],\n",
    "    \n",
    "    [[19,20,21],\n",
    "     [22,23,24],\n",
    "     [25,26,27]]\n",
    "],\n",
    "    [[[28,29,30],\n",
    "    [31,32,33],\n",
    "    [34,35,36]],\n",
    "    \n",
    "    [[37,38,39],\n",
    "     [40,41,42],\n",
    "     [43,44,45]],\n",
    "    \n",
    "    [[46,47,48],\n",
    "     [49,50,51],\n",
    "     [52,53,54]]\n",
    "],\n",
    "    [[[55,56,57],\n",
    "    [58,59,60],\n",
    "    [61,62,63]],\n",
    "    \n",
    "    [[64,65,66],\n",
    "     [67,68,69],\n",
    "     [70,71,72]],\n",
    "    \n",
    "    [[73,74,75],\n",
    "     [76,77,78],\n",
    "     [79,80,81]]]\n",
    "])\n",
    "print(\"4D :\", tensor_four_d, \"\\n\")"
   ]
  },
  {
   "cell_type": "code",
   "execution_count": 21,
   "id": "1d8a9d28-38e5-4f84-9378-594eb8d14a18",
   "metadata": {},
   "outputs": [
    {
     "name": "stdout",
     "output_type": "stream",
     "text": [
      "()\n",
      "(3,)\n",
      "(3, 3)\n",
      "(3, 3, 3)\n",
      "(3, 3, 3, 3)\n"
     ]
    }
   ],
   "source": [
    "print(tensor_zero_d.shape)\n",
    "print(tensor_one_d.shape)\n",
    "print(tensor_two_d.shape)\n",
    "print(tensor_three_d.shape)\n",
    "print(tensor_four_d.shape)"
   ]
  },
  {
   "cell_type": "markdown",
   "id": "ed31fab9-4472-4677-9d26-eb11d4e80867",
   "metadata": {},
   "source": [
    "> [!note] You can reduce the memory space taken by tensor data by defining the data type to be processed and output as a different data type. <br> \n",
    "**Examples:**<br>\n",
    ">- `int` (64, 32, 16, 8)\n",
    ">- `float` (64, 32, 16, 8)\n",
    ">- `double` (64, 32, 16, 8)\n",
    "\n",
    ">Code Example:\n",
    ">```python\n",
    ">import tensorflow as tf\n",
    ">\n",
    ">tensor_three_d = tf.constant([\n",
    ">    [[1, 2, 3],\n",
    ">    [4, 5, 6],\n",
    ">    [7, 8, 9]],\n",
    ">    \n",
    ">    [[10, 11, 12],\n",
    ">     [13, 14, 15],\n",
    ">     [16, 17, 18]],\n",
    ">    \n",
    ">    [[19, 20, 21],\n",
    ">     [22, 23, 24],\n",
    ">     [25, 26, 27]]\n",
    ">], dtype=tf.float16)\n",
    ">print(\"3D Tensor:\", tensor_three_d)\n",
    ">```\n",
    "><br>\n",
    ">This keeps the output of the data the same while taking up less space. Note that the chosen data type should be able to contain the data processed; otherwise, the processed data will be inaccurate."
   ]
  },
  {
   "cell_type": "code",
   "execution_count": 33,
   "id": "d3915b57-d5da-4447-be01-ccfdccc92f0a",
   "metadata": {
    "jp-MarkdownHeadingCollapsed": true
   },
   "outputs": [
    {
     "name": "stdout",
     "output_type": "stream",
     "text": [
      "tf.Tensor(\n",
      "[[ 1.3148774  -0.15421568  0.9113878 ]\n",
      " [-0.7991441  -0.10875294  0.28436786]], shape=(2, 3), dtype=float32)\n"
     ]
    }
   ],
   "source": [
    "import tensorflow as tf\n",
    "\n",
    "# Generate a random tensor with shape (2, 3) from a normal distribution with mean 0 and standard deviation 1\n",
    "# Set the random seed for reproducibility\n",
    "tf.random.set_seed(42)\n",
    "\n",
    "random_tensor = tf.random.normal(\n",
    "\tshape=(2, 3), \n",
    "\tmean=0.0, \n",
    "\tstddev=1.0, \n",
    "\tseed=42, \n",
    "\tdtype=tf.float32, \n",
    "\tname=\"my_random_tensor\")\n",
    "\n",
    "# Print the random normal tensor\n",
    "print(random_tensor)"
   ]
  },
  {
   "cell_type": "code",
   "execution_count": null,
   "id": "3d53e2c2-5db3-4a87-aa26-7e61c9beb9a7",
   "metadata": {},
   "outputs": [],
   "source": []
  }
 ],
 "metadata": {
  "kernelspec": {
   "display_name": "Python 3 (ipykernel)",
   "language": "python",
   "name": "python3"
  },
  "language_info": {
   "codemirror_mode": {
    "name": "ipython",
    "version": 3
   },
   "file_extension": ".py",
   "mimetype": "text/x-python",
   "name": "python",
   "nbconvert_exporter": "python",
   "pygments_lexer": "ipython3",
   "version": "3.12.3"
  }
 },
 "nbformat": 4,
 "nbformat_minor": 5
}
